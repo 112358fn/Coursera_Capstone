{
 "cells": [
  {
   "cell_type": "markdown",
   "metadata": {},
   "source": [
    "# Finding a location for a speciality coffee shop"
   ]
  },
  {
   "cell_type": "markdown",
   "metadata": {},
   "source": [
    "## Introduction \n",
    "\n",
    "As we can see from the CBI report speciality coffee is a growing niche market making it an interesting business opportunity.\n",
    "\n",
    "From CBI (Centre for the Promotion of Imports from developing countries):\n",
    "> Europe is a large market for coffee. Opportunities for small and medium-sized suppliers from producing countries are best found in the growing specialty coffee market in Europe. Although still a niche market, there is a growing demand for high-quality and single origin coffees.\n",
    "[Read more here](https://www.cbi.eu/market-information/coffee/trade-statistics/#the-european-market-for-specialty-coffee-is-growing)\n",
    "\n",
    "From Wikipedia:\n",
    ">Europe is already a major coffee market accounting for 30% of global consumption, but is seeing a growth in demand for specialty coffee while overall demand remains stable. In 2016, specialty coffee was Europe’s fastest growing major restaurant category, with an increase of 9.1% from 2014-2015.\n",
    "\n",
    "## Business Problem\n",
    "Speciality coffee is also referred as third-wave coffee to distinguish of the second-wave coffee characterised by coffee-shops franchises.\n",
    "This coffee-shops are usually smaller than their franchise counterparts and have to play smartly to gain market-share. Since this a new trend consumers might not be aware of the differences and remain within the traditional coffee-shops. \n",
    "In order to attract new costumers and be able to differentiate from traditional coffee-shops, speciality cafes needs to be able to create communities and define a new coffee culture. In this matter, geographic location can play a major role. The relative distance between speciality and traditional coffee shops can help create synergies among small cafes and mitigate the effects of more aggressive players like franchises. \n",
    "\n",
    "### Finally, the problem we are trying to solve is to identify potencial places where a new speciality coffee-shop will florish."
   ]
  },
  {
   "cell_type": "markdown",
   "metadata": {},
   "source": [
    "## Data\n",
    "In order to solve this problem we can gather already successful speciality coffee shops from different cities of Europe. We can get a list of them per city from the website: European Coffee Trip (https://europeancoffeetrip.com/). For example this a list for Stockholm: https://europeancoffeetrip.com/stockholm/ \n",
    "\n",
    "We can get a list of coffeehouses chains from here: https://en.wikipedia.org/wiki/List_of_coffeehouse_chains\n",
    "\n",
    "We can use the Foursquare API to check the geographical location of the speciality cafes and how they are positioned respectively to the coffeehouses chains. With this information we can build a model to identify potencial places for a new speciality coffee-shop."
   ]
  }
 ],
 "metadata": {
  "language_info": {
   "codemirror_mode": {
    "name": "ipython",
    "version": 3
   },
   "file_extension": ".py",
   "mimetype": "text/x-python",
   "name": "python",
   "nbconvert_exporter": "python",
   "pygments_lexer": "ipython3",
   "version": 3
  },
  "orig_nbformat": 2
 },
 "nbformat": 4,
 "nbformat_minor": 2
}